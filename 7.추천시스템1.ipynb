{
 "cells": [
  {
   "cell_type": "code",
   "execution_count": 1,
   "metadata": {
    "ExecuteTime": {
     "end_time": "2022-07-07T10:53:07.588559Z",
     "start_time": "2022-07-07T10:53:04.990197Z"
    }
   },
   "outputs": [],
   "source": [
    "# 라이브러리 실행\n",
    "import pandas as pd\n",
    "import numpy as np\n",
    "import matplotlib.pyplot as plt\n",
    "import seaborn as sns\n",
    "from ast import literal_eval\n",
    "from sklearn.feature_extraction.text import TfidfVectorizer\n",
    "from sklearn.feature_extraction.text import CountVectorizer\n",
    "from sklearn.metrics.pairwise import cosine_similarity"
   ]
  },
  {
   "cell_type": "code",
   "execution_count": 2,
   "metadata": {
    "ExecuteTime": {
     "end_time": "2022-07-07T10:53:07.633710Z",
     "start_time": "2022-07-07T10:53:07.590489Z"
    }
   },
   "outputs": [
    {
     "data": {
      "text/html": [
       "<div>\n",
       "<style scoped>\n",
       "    .dataframe tbody tr th:only-of-type {\n",
       "        vertical-align: middle;\n",
       "    }\n",
       "\n",
       "    .dataframe tbody tr th {\n",
       "        vertical-align: top;\n",
       "    }\n",
       "\n",
       "    .dataframe thead th {\n",
       "        text-align: right;\n",
       "    }\n",
       "</style>\n",
       "<table border=\"1\" class=\"dataframe\">\n",
       "  <thead>\n",
       "    <tr style=\"text-align: right;\">\n",
       "      <th></th>\n",
       "      <th>여행지</th>\n",
       "      <th>주소</th>\n",
       "      <th>행정구역</th>\n",
       "      <th>시군구</th>\n",
       "      <th>분류</th>\n",
       "      <th>트립어드바이저평점</th>\n",
       "      <th>카테고리</th>\n",
       "    </tr>\n",
       "  </thead>\n",
       "  <tbody>\n",
       "    <tr>\n",
       "      <th>0</th>\n",
       "      <td>경복궁</td>\n",
       "      <td>서울특별시 종로구 사직로 161</td>\n",
       "      <td>서울시</td>\n",
       "      <td>종로구</td>\n",
       "      <td>역사적인 장소 • 역사박물관</td>\n",
       "      <td>4.5</td>\n",
       "      <td>역사적인 장소</td>\n",
       "    </tr>\n",
       "    <tr>\n",
       "      <th>1</th>\n",
       "      <td>삼청동길</td>\n",
       "      <td>107 종로구 삼청동, 서울</td>\n",
       "      <td>서울시</td>\n",
       "      <td>종로구</td>\n",
       "      <td>즐길거리 &amp; 랜드마크</td>\n",
       "      <td>4.5</td>\n",
       "      <td>랜드마크</td>\n",
       "    </tr>\n",
       "    <tr>\n",
       "      <th>2</th>\n",
       "      <td>인사동길</td>\n",
       "      <td>종로구 인사동, 서울</td>\n",
       "      <td>서울시</td>\n",
       "      <td>종로구</td>\n",
       "      <td>인근 지역 • 즐길거리 &amp; 랜드마크</td>\n",
       "      <td>4</td>\n",
       "      <td>랜드마크</td>\n",
       "    </tr>\n",
       "    <tr>\n",
       "      <th>3</th>\n",
       "      <td>조계사</td>\n",
       "      <td>종로구 견지동 45번지, 서울</td>\n",
       "      <td>서울시</td>\n",
       "      <td>종로구</td>\n",
       "      <td>종교적인 장소 • 기념비 및 동상</td>\n",
       "      <td>4.5</td>\n",
       "      <td>종교적인 장소</td>\n",
       "    </tr>\n",
       "    <tr>\n",
       "      <th>4</th>\n",
       "      <td>청와대</td>\n",
       "      <td>종로구 청와대로 1, 서울</td>\n",
       "      <td>서울시</td>\n",
       "      <td>종로구</td>\n",
       "      <td>공공기관 건물</td>\n",
       "      <td>4</td>\n",
       "      <td>랜드마크</td>\n",
       "    </tr>\n",
       "    <tr>\n",
       "      <th>...</th>\n",
       "      <td>...</td>\n",
       "      <td>...</td>\n",
       "      <td>...</td>\n",
       "      <td>...</td>\n",
       "      <td>...</td>\n",
       "      <td>...</td>\n",
       "      <td>...</td>\n",
       "    </tr>\n",
       "    <tr>\n",
       "      <th>653</th>\n",
       "      <td>융ㆍ건릉</td>\n",
       "      <td>화성, 경기도, 대한민국</td>\n",
       "      <td>경기도</td>\n",
       "      <td>화성시</td>\n",
       "      <td>역사적인 장소</td>\n",
       "      <td>4</td>\n",
       "      <td>역사적인장소</td>\n",
       "    </tr>\n",
       "    <tr>\n",
       "      <th>654</th>\n",
       "      <td>자유공원</td>\n",
       "      <td>중구 신포로27번길 80, 인천, 대한민국</td>\n",
       "      <td>인천광역시</td>\n",
       "      <td>중구</td>\n",
       "      <td>공원</td>\n",
       "      <td>4</td>\n",
       "      <td>공원</td>\n",
       "    </tr>\n",
       "    <tr>\n",
       "      <th>655</th>\n",
       "      <td>통일전망대</td>\n",
       "      <td>탄현면 필승로 369, 파주, 경기도, 대한민국</td>\n",
       "      <td>경기도</td>\n",
       "      <td>파주시</td>\n",
       "      <td>전망대 &amp; 타워</td>\n",
       "      <td>4</td>\n",
       "      <td>랜드마크</td>\n",
       "    </tr>\n",
       "    <tr>\n",
       "      <th>656</th>\n",
       "      <td>십리포 해수욕장</td>\n",
       "      <td>영흥면 영흥북로 420-26, 인천, 대한민국</td>\n",
       "      <td>인천광역시</td>\n",
       "      <td>옹진군</td>\n",
       "      <td>해변</td>\n",
       "      <td>3.5</td>\n",
       "      <td>해변</td>\n",
       "    </tr>\n",
       "    <tr>\n",
       "      <th>657</th>\n",
       "      <td>순천 드라마세트장</td>\n",
       "      <td>비례골길 24, 순천, 전라남도, 대한민국</td>\n",
       "      <td>전라남도</td>\n",
       "      <td>순천시</td>\n",
       "      <td>즐길거리 &amp; 랜드마크</td>\n",
       "      <td>4</td>\n",
       "      <td>랜드마크</td>\n",
       "    </tr>\n",
       "  </tbody>\n",
       "</table>\n",
       "<p>658 rows × 7 columns</p>\n",
       "</div>"
      ],
      "text/plain": [
       "            여행지                          주소   행정구역  시군구                   분류  \\\n",
       "0           경복궁           서울특별시 종로구 사직로 161    서울시  종로구      역사적인 장소 • 역사박물관   \n",
       "1          삼청동길             107 종로구 삼청동, 서울    서울시  종로구          즐길거리 & 랜드마크   \n",
       "2          인사동길                 종로구 인사동, 서울    서울시  종로구  인근 지역 • 즐길거리 & 랜드마크   \n",
       "3           조계사            종로구 견지동 45번지, 서울    서울시  종로구   종교적인 장소 • 기념비 및 동상   \n",
       "4           청와대              종로구 청와대로 1, 서울    서울시  종로구              공공기관 건물   \n",
       "..          ...                         ...    ...  ...                  ...   \n",
       "653        융ㆍ건릉               화성, 경기도, 대한민국    경기도  화성시              역사적인 장소   \n",
       "654        자유공원     중구 신포로27번길 80, 인천, 대한민국  인천광역시   중구                   공원   \n",
       "655       통일전망대  탄현면 필승로 369, 파주, 경기도, 대한민국    경기도  파주시             전망대 & 타워   \n",
       "656    십리포 해수욕장   영흥면 영흥북로 420-26, 인천, 대한민국  인천광역시  옹진군                   해변   \n",
       "657  순천 드라마세트장      비례골길 24, 순천, 전라남도, 대한민국   전라남도  순천시          즐길거리 & 랜드마크   \n",
       "\n",
       "    트립어드바이저평점     카테고리  \n",
       "0         4.5  역사적인 장소  \n",
       "1         4.5     랜드마크  \n",
       "2           4     랜드마크  \n",
       "3         4.5  종교적인 장소  \n",
       "4           4     랜드마크  \n",
       "..        ...      ...  \n",
       "653         4   역사적인장소  \n",
       "654         4       공원  \n",
       "655         4     랜드마크  \n",
       "656       3.5       해변  \n",
       "657         4     랜드마크  \n",
       "\n",
       "[658 rows x 7 columns]"
      ]
     },
     "execution_count": 2,
     "metadata": {},
     "output_type": "execute_result"
    }
   ],
   "source": [
    "data=pd.read_csv('./data/최종 데이터(for추천).csv')\n",
    "data"
   ]
  },
  {
   "cell_type": "code",
   "execution_count": 3,
   "metadata": {
    "ExecuteTime": {
     "end_time": "2022-07-07T10:53:08.285403Z",
     "start_time": "2022-07-07T10:53:08.265242Z"
    }
   },
   "outputs": [
    {
     "data": {
      "text/html": [
       "<div>\n",
       "<style scoped>\n",
       "    .dataframe tbody tr th:only-of-type {\n",
       "        vertical-align: middle;\n",
       "    }\n",
       "\n",
       "    .dataframe tbody tr th {\n",
       "        vertical-align: top;\n",
       "    }\n",
       "\n",
       "    .dataframe thead th {\n",
       "        text-align: right;\n",
       "    }\n",
       "</style>\n",
       "<table border=\"1\" class=\"dataframe\">\n",
       "  <thead>\n",
       "    <tr style=\"text-align: right;\">\n",
       "      <th></th>\n",
       "      <th>여행지</th>\n",
       "      <th>행정구역</th>\n",
       "      <th>시군구</th>\n",
       "      <th>카테고리</th>\n",
       "    </tr>\n",
       "  </thead>\n",
       "  <tbody>\n",
       "    <tr>\n",
       "      <th>0</th>\n",
       "      <td>경복궁</td>\n",
       "      <td>서울시</td>\n",
       "      <td>종로구</td>\n",
       "      <td>역사적인 장소</td>\n",
       "    </tr>\n",
       "    <tr>\n",
       "      <th>1</th>\n",
       "      <td>삼청동길</td>\n",
       "      <td>서울시</td>\n",
       "      <td>종로구</td>\n",
       "      <td>랜드마크</td>\n",
       "    </tr>\n",
       "    <tr>\n",
       "      <th>2</th>\n",
       "      <td>인사동길</td>\n",
       "      <td>서울시</td>\n",
       "      <td>종로구</td>\n",
       "      <td>랜드마크</td>\n",
       "    </tr>\n",
       "    <tr>\n",
       "      <th>3</th>\n",
       "      <td>조계사</td>\n",
       "      <td>서울시</td>\n",
       "      <td>종로구</td>\n",
       "      <td>종교적인 장소</td>\n",
       "    </tr>\n",
       "    <tr>\n",
       "      <th>4</th>\n",
       "      <td>청와대</td>\n",
       "      <td>서울시</td>\n",
       "      <td>종로구</td>\n",
       "      <td>랜드마크</td>\n",
       "    </tr>\n",
       "  </tbody>\n",
       "</table>\n",
       "</div>"
      ],
      "text/plain": [
       "    여행지 행정구역  시군구     카테고리\n",
       "0   경복궁  서울시  종로구  역사적인 장소\n",
       "1  삼청동길  서울시  종로구     랜드마크\n",
       "2  인사동길  서울시  종로구     랜드마크\n",
       "3   조계사  서울시  종로구  종교적인 장소\n",
       "4   청와대  서울시  종로구     랜드마크"
      ]
     },
     "execution_count": 3,
     "metadata": {},
     "output_type": "execute_result"
    }
   ],
   "source": [
    "data=data[['여행지','행정구역','시군구','카테고리']]\n",
    "data.head()"
   ]
  },
  {
   "cell_type": "code",
   "execution_count": 4,
   "metadata": {
    "ExecuteTime": {
     "end_time": "2022-07-07T10:53:08.906236Z",
     "start_time": "2022-07-07T10:53:08.883090Z"
    }
   },
   "outputs": [
    {
     "data": {
      "text/html": [
       "<div>\n",
       "<style scoped>\n",
       "    .dataframe tbody tr th:only-of-type {\n",
       "        vertical-align: middle;\n",
       "    }\n",
       "\n",
       "    .dataframe tbody tr th {\n",
       "        vertical-align: top;\n",
       "    }\n",
       "\n",
       "    .dataframe thead th {\n",
       "        text-align: right;\n",
       "    }\n",
       "</style>\n",
       "<table border=\"1\" class=\"dataframe\">\n",
       "  <thead>\n",
       "    <tr style=\"text-align: right;\">\n",
       "      <th></th>\n",
       "      <th>여행지</th>\n",
       "      <th>행정구역_강원도</th>\n",
       "      <th>행정구역_경기도</th>\n",
       "      <th>행정구역_경상남도</th>\n",
       "      <th>행정구역_경상북도</th>\n",
       "      <th>행정구역_광주광역시</th>\n",
       "      <th>행정구역_대구광역시</th>\n",
       "      <th>행정구역_대전광역시</th>\n",
       "      <th>행정구역_부산광역시</th>\n",
       "      <th>행정구역_서울시</th>\n",
       "      <th>...</th>\n",
       "      <th>카테고리_섬</th>\n",
       "      <th>카테고리_역사적인 장소</th>\n",
       "      <th>카테고리_역사적인장소</th>\n",
       "      <th>카테고리_욕</th>\n",
       "      <th>카테고리_자연 경관</th>\n",
       "      <th>카테고리_종교적인 장소</th>\n",
       "      <th>카테고리_종교적인장소</th>\n",
       "      <th>카테고리_지층</th>\n",
       "      <th>카테고리_해변</th>\n",
       "      <th>카테고리_행사</th>\n",
       "    </tr>\n",
       "  </thead>\n",
       "  <tbody>\n",
       "    <tr>\n",
       "      <th>0</th>\n",
       "      <td>경복궁</td>\n",
       "      <td>0</td>\n",
       "      <td>0</td>\n",
       "      <td>0</td>\n",
       "      <td>0</td>\n",
       "      <td>0</td>\n",
       "      <td>0</td>\n",
       "      <td>0</td>\n",
       "      <td>0</td>\n",
       "      <td>1</td>\n",
       "      <td>...</td>\n",
       "      <td>0</td>\n",
       "      <td>1</td>\n",
       "      <td>0</td>\n",
       "      <td>0</td>\n",
       "      <td>0</td>\n",
       "      <td>0</td>\n",
       "      <td>0</td>\n",
       "      <td>0</td>\n",
       "      <td>0</td>\n",
       "      <td>0</td>\n",
       "    </tr>\n",
       "    <tr>\n",
       "      <th>1</th>\n",
       "      <td>삼청동길</td>\n",
       "      <td>0</td>\n",
       "      <td>0</td>\n",
       "      <td>0</td>\n",
       "      <td>0</td>\n",
       "      <td>0</td>\n",
       "      <td>0</td>\n",
       "      <td>0</td>\n",
       "      <td>0</td>\n",
       "      <td>1</td>\n",
       "      <td>...</td>\n",
       "      <td>0</td>\n",
       "      <td>0</td>\n",
       "      <td>0</td>\n",
       "      <td>0</td>\n",
       "      <td>0</td>\n",
       "      <td>0</td>\n",
       "      <td>0</td>\n",
       "      <td>0</td>\n",
       "      <td>0</td>\n",
       "      <td>0</td>\n",
       "    </tr>\n",
       "    <tr>\n",
       "      <th>2</th>\n",
       "      <td>인사동길</td>\n",
       "      <td>0</td>\n",
       "      <td>0</td>\n",
       "      <td>0</td>\n",
       "      <td>0</td>\n",
       "      <td>0</td>\n",
       "      <td>0</td>\n",
       "      <td>0</td>\n",
       "      <td>0</td>\n",
       "      <td>1</td>\n",
       "      <td>...</td>\n",
       "      <td>0</td>\n",
       "      <td>0</td>\n",
       "      <td>0</td>\n",
       "      <td>0</td>\n",
       "      <td>0</td>\n",
       "      <td>0</td>\n",
       "      <td>0</td>\n",
       "      <td>0</td>\n",
       "      <td>0</td>\n",
       "      <td>0</td>\n",
       "    </tr>\n",
       "    <tr>\n",
       "      <th>3</th>\n",
       "      <td>조계사</td>\n",
       "      <td>0</td>\n",
       "      <td>0</td>\n",
       "      <td>0</td>\n",
       "      <td>0</td>\n",
       "      <td>0</td>\n",
       "      <td>0</td>\n",
       "      <td>0</td>\n",
       "      <td>0</td>\n",
       "      <td>1</td>\n",
       "      <td>...</td>\n",
       "      <td>0</td>\n",
       "      <td>0</td>\n",
       "      <td>0</td>\n",
       "      <td>0</td>\n",
       "      <td>0</td>\n",
       "      <td>1</td>\n",
       "      <td>0</td>\n",
       "      <td>0</td>\n",
       "      <td>0</td>\n",
       "      <td>0</td>\n",
       "    </tr>\n",
       "    <tr>\n",
       "      <th>4</th>\n",
       "      <td>청와대</td>\n",
       "      <td>0</td>\n",
       "      <td>0</td>\n",
       "      <td>0</td>\n",
       "      <td>0</td>\n",
       "      <td>0</td>\n",
       "      <td>0</td>\n",
       "      <td>0</td>\n",
       "      <td>0</td>\n",
       "      <td>1</td>\n",
       "      <td>...</td>\n",
       "      <td>0</td>\n",
       "      <td>0</td>\n",
       "      <td>0</td>\n",
       "      <td>0</td>\n",
       "      <td>0</td>\n",
       "      <td>0</td>\n",
       "      <td>0</td>\n",
       "      <td>0</td>\n",
       "      <td>0</td>\n",
       "      <td>0</td>\n",
       "    </tr>\n",
       "  </tbody>\n",
       "</table>\n",
       "<p>5 rows × 201 columns</p>\n",
       "</div>"
      ],
      "text/plain": [
       "    여행지  행정구역_강원도  행정구역_경기도  행정구역_경상남도  행정구역_경상북도  행정구역_광주광역시  행정구역_대구광역시  \\\n",
       "0   경복궁         0         0          0          0           0           0   \n",
       "1  삼청동길         0         0          0          0           0           0   \n",
       "2  인사동길         0         0          0          0           0           0   \n",
       "3   조계사         0         0          0          0           0           0   \n",
       "4   청와대         0         0          0          0           0           0   \n",
       "\n",
       "   행정구역_대전광역시  행정구역_부산광역시  행정구역_서울시  ...  카테고리_섬  카테고리_역사적인 장소  카테고리_역사적인장소  \\\n",
       "0           0           0         1  ...       0             1            0   \n",
       "1           0           0         1  ...       0             0            0   \n",
       "2           0           0         1  ...       0             0            0   \n",
       "3           0           0         1  ...       0             0            0   \n",
       "4           0           0         1  ...       0             0            0   \n",
       "\n",
       "   카테고리_욕  카테고리_자연 경관  카테고리_종교적인 장소  카테고리_종교적인장소  카테고리_지층  카테고리_해변  카테고리_행사  \n",
       "0       0           0             0            0        0        0        0  \n",
       "1       0           0             0            0        0        0        0  \n",
       "2       0           0             0            0        0        0        0  \n",
       "3       0           0             1            0        0        0        0  \n",
       "4       0           0             0            0        0        0        0  \n",
       "\n",
       "[5 rows x 201 columns]"
      ]
     },
     "execution_count": 4,
     "metadata": {},
     "output_type": "execute_result"
    }
   ],
   "source": [
    "df=pd.get_dummies(data=data,columns=['행정구역'],prefix='행정구역')\n",
    "df=pd.get_dummies(data=df,columns=['시군구'],prefix='시군구')\n",
    "df=pd.get_dummies(data=df,columns=['카테고리'],prefix='카테고리')\n",
    "df.head()"
   ]
  },
  {
   "cell_type": "code",
   "execution_count": 5,
   "metadata": {
    "ExecuteTime": {
     "end_time": "2022-07-07T10:53:09.328529Z",
     "start_time": "2022-07-07T10:53:09.325279Z"
    }
   },
   "outputs": [],
   "source": [
    "from numpy import dot\n",
    "from numpy.linalg import norm\n",
    "import numpy as np\n",
    "def cos_sim(A, B):\n",
    "       return dot(A, B)/(norm(A)*norm(B))"
   ]
  },
  {
   "cell_type": "code",
   "execution_count": 6,
   "metadata": {
    "ExecuteTime": {
     "end_time": "2022-07-07T10:53:09.750504Z",
     "start_time": "2022-07-07T10:53:09.736797Z"
    }
   },
   "outputs": [],
   "source": [
    "df.set_index(['여행지'],inplace=True)"
   ]
  },
  {
   "cell_type": "code",
   "execution_count": 7,
   "metadata": {
    "ExecuteTime": {
     "end_time": "2022-07-07T10:53:10.053486Z",
     "start_time": "2022-07-07T10:53:10.037322Z"
    }
   },
   "outputs": [],
   "source": [
    "from sklearn.metrics.pairwise import linear_kernel\n",
    "cosine_sim = linear_kernel(df, df)"
   ]
  },
  {
   "cell_type": "code",
   "execution_count": 8,
   "metadata": {
    "ExecuteTime": {
     "end_time": "2022-07-07T10:53:10.401402Z",
     "start_time": "2022-07-07T10:53:10.372074Z"
    }
   },
   "outputs": [
    {
     "data": {
      "text/plain": [
       "array([[1.        , 0.66666667, 0.66666667, ..., 0.        , 0.        ,\n",
       "        0.        ],\n",
       "       [0.66666667, 1.        , 1.        , ..., 0.33333333, 0.        ,\n",
       "        0.33333333],\n",
       "       [0.66666667, 1.        , 1.        , ..., 0.33333333, 0.        ,\n",
       "        0.33333333],\n",
       "       ...,\n",
       "       [0.        , 0.33333333, 0.33333333, ..., 1.        , 0.        ,\n",
       "        0.33333333],\n",
       "       [0.        , 0.        , 0.        , ..., 0.        , 1.        ,\n",
       "        0.        ],\n",
       "       [0.        , 0.33333333, 0.33333333, ..., 0.33333333, 0.        ,\n",
       "        1.        ]])"
      ]
     },
     "execution_count": 8,
     "metadata": {},
     "output_type": "execute_result"
    }
   ],
   "source": [
    "from sklearn.metrics.pairwise import cosine_similarity\n",
    "cosine_sim=cosine_similarity(df,df)\n",
    "cosine_sim"
   ]
  },
  {
   "cell_type": "code",
   "execution_count": 9,
   "metadata": {
    "ExecuteTime": {
     "end_time": "2022-07-07T10:53:10.778631Z",
     "start_time": "2022-07-07T10:53:10.772544Z"
    }
   },
   "outputs": [
    {
     "data": {
      "text/plain": [
       "array([[1.        , 0.66666667, 0.66666667, ..., 0.        , 0.        ,\n",
       "        0.        ],\n",
       "       [0.66666667, 1.        , 1.        , ..., 0.33333333, 0.        ,\n",
       "        0.33333333],\n",
       "       [0.66666667, 1.        , 1.        , ..., 0.33333333, 0.        ,\n",
       "        0.33333333],\n",
       "       ...,\n",
       "       [0.        , 0.33333333, 0.33333333, ..., 1.        , 0.        ,\n",
       "        0.33333333],\n",
       "       [0.        , 0.        , 0.        , ..., 0.        , 1.        ,\n",
       "        0.        ],\n",
       "       [0.        , 0.33333333, 0.33333333, ..., 0.33333333, 0.        ,\n",
       "        1.        ]])"
      ]
     },
     "execution_count": 9,
     "metadata": {},
     "output_type": "execute_result"
    }
   ],
   "source": [
    "cosine_sim"
   ]
  },
  {
   "cell_type": "code",
   "execution_count": 10,
   "metadata": {
    "ExecuteTime": {
     "end_time": "2022-07-07T10:53:11.244215Z",
     "start_time": "2022-07-07T10:53:11.231138Z"
    }
   },
   "outputs": [
    {
     "name": "stdout",
     "output_type": "stream",
     "text": [
      "여행지\n",
      "경복궁     0\n",
      "삼청동길    1\n",
      "인사동길    2\n",
      "조계사     3\n",
      "청와대     4\n",
      "dtype: int64\n"
     ]
    }
   ],
   "source": [
    "indices =pd.Series(range(658),index=df.index)\n",
    "print(indices.head())"
   ]
  },
  {
   "cell_type": "code",
   "execution_count": 11,
   "metadata": {
    "ExecuteTime": {
     "end_time": "2022-07-07T10:53:11.621136Z",
     "start_time": "2022-07-07T10:53:11.609977Z"
    }
   },
   "outputs": [
    {
     "name": "stdout",
     "output_type": "stream",
     "text": [
      "0     경복궁\n",
      "1    삼청동길\n",
      "2    인사동길\n",
      "3     조계사\n",
      "4     청와대\n",
      "Name: 여행지, dtype: object\n"
     ]
    }
   ],
   "source": [
    "indices1=pd.Series(df.index)\n",
    "print(indices1.head())"
   ]
  },
  {
   "cell_type": "code",
   "execution_count": 12,
   "metadata": {
    "ExecuteTime": {
     "end_time": "2022-07-07T10:53:11.983141Z",
     "start_time": "2022-07-07T10:53:11.957684Z"
    }
   },
   "outputs": [],
   "source": [
    "def get_recommendations(title, cosine_sim=cosine_sim):\n",
    "    # 선택한 상품의 타이틀로부터 해당되는 인덱스를 받아옵니다. 이제 선택한 영화를 가지고 연산할 수 있습니다.\n",
    "    idx = indices[title]\n",
    "\n",
    "    # 모든 영화에 대해서 해당 상품과의 유사도를 구합니다.\n",
    "    sim_scores = list(enumerate(cosine_sim[idx]))\n",
    "\n",
    "    # 유사도에 따라 상품들을 정렬합니다.\n",
    "    sim_scores = sorted(sim_scores, key=lambda x: x[1], reverse=True)\n",
    "\n",
    "    # 가장 유사한 10개의 상품을 받아옵니다.\n",
    "    sim_scores = sim_scores[1:11] \n",
    "\n",
    "    # 가장 유사한 10개의 상품의 인덱스를 받아옵니다.\n",
    "    item_indices = [i[0] for i in sim_scores]\n",
    "    \n",
    "    result=pd.DataFrame(indices1[item_indices])\n",
    "    laster=pd.merge(result,data,how='left' )\n",
    "#     laster=laster.drop_duplicates(['상품명'])\n",
    "\n",
    "    \n",
    "    \n",
    "    # 가장 유사한 10개의 상품명 리턴합니다.\n",
    "    return laster"
   ]
  },
  {
   "cell_type": "code",
   "execution_count": 14,
   "metadata": {
    "ExecuteTime": {
     "end_time": "2022-07-07T10:53:45.407312Z",
     "start_time": "2022-07-07T10:53:45.380002Z"
    }
   },
   "outputs": [
    {
     "data": {
      "text/html": [
       "<div>\n",
       "<style scoped>\n",
       "    .dataframe tbody tr th:only-of-type {\n",
       "        vertical-align: middle;\n",
       "    }\n",
       "\n",
       "    .dataframe tbody tr th {\n",
       "        vertical-align: top;\n",
       "    }\n",
       "\n",
       "    .dataframe thead th {\n",
       "        text-align: right;\n",
       "    }\n",
       "</style>\n",
       "<table border=\"1\" class=\"dataframe\">\n",
       "  <thead>\n",
       "    <tr style=\"text-align: right;\">\n",
       "      <th></th>\n",
       "      <th>여행지</th>\n",
       "      <th>행정구역</th>\n",
       "      <th>시군구</th>\n",
       "      <th>카테고리</th>\n",
       "    </tr>\n",
       "  </thead>\n",
       "  <tbody>\n",
       "    <tr>\n",
       "      <th>0</th>\n",
       "      <td>보신각</td>\n",
       "      <td>서울시</td>\n",
       "      <td>종로구</td>\n",
       "      <td>역사적인 장소</td>\n",
       "    </tr>\n",
       "    <tr>\n",
       "      <th>1</th>\n",
       "      <td>경교장</td>\n",
       "      <td>서울시</td>\n",
       "      <td>종로구</td>\n",
       "      <td>역사적인 장소</td>\n",
       "    </tr>\n",
       "    <tr>\n",
       "      <th>2</th>\n",
       "      <td>종묘</td>\n",
       "      <td>서울시</td>\n",
       "      <td>종로구</td>\n",
       "      <td>역사적인 장소</td>\n",
       "    </tr>\n",
       "    <tr>\n",
       "      <th>3</th>\n",
       "      <td>창경궁</td>\n",
       "      <td>서울시</td>\n",
       "      <td>종로구</td>\n",
       "      <td>역사적인 장소</td>\n",
       "    </tr>\n",
       "    <tr>\n",
       "      <th>4</th>\n",
       "      <td>창덕궁</td>\n",
       "      <td>서울시</td>\n",
       "      <td>종로구</td>\n",
       "      <td>역사적인 장소</td>\n",
       "    </tr>\n",
       "    <tr>\n",
       "      <th>5</th>\n",
       "      <td>운현궁</td>\n",
       "      <td>서울시</td>\n",
       "      <td>종로구</td>\n",
       "      <td>역사적인 장소</td>\n",
       "    </tr>\n",
       "    <tr>\n",
       "      <th>6</th>\n",
       "      <td>삼청동길</td>\n",
       "      <td>서울시</td>\n",
       "      <td>종로구</td>\n",
       "      <td>랜드마크</td>\n",
       "    </tr>\n",
       "    <tr>\n",
       "      <th>7</th>\n",
       "      <td>인사동길</td>\n",
       "      <td>서울시</td>\n",
       "      <td>종로구</td>\n",
       "      <td>랜드마크</td>\n",
       "    </tr>\n",
       "    <tr>\n",
       "      <th>8</th>\n",
       "      <td>조계사</td>\n",
       "      <td>서울시</td>\n",
       "      <td>종로구</td>\n",
       "      <td>종교적인 장소</td>\n",
       "    </tr>\n",
       "    <tr>\n",
       "      <th>9</th>\n",
       "      <td>청와대</td>\n",
       "      <td>서울시</td>\n",
       "      <td>종로구</td>\n",
       "      <td>랜드마크</td>\n",
       "    </tr>\n",
       "  </tbody>\n",
       "</table>\n",
       "</div>"
      ],
      "text/plain": [
       "    여행지 행정구역  시군구     카테고리\n",
       "0   보신각  서울시  종로구  역사적인 장소\n",
       "1   경교장  서울시  종로구  역사적인 장소\n",
       "2    종묘  서울시  종로구  역사적인 장소\n",
       "3   창경궁  서울시  종로구  역사적인 장소\n",
       "4   창덕궁  서울시  종로구  역사적인 장소\n",
       "5   운현궁  서울시  종로구  역사적인 장소\n",
       "6  삼청동길  서울시  종로구     랜드마크\n",
       "7  인사동길  서울시  종로구     랜드마크\n",
       "8   조계사  서울시  종로구  종교적인 장소\n",
       "9   청와대  서울시  종로구     랜드마크"
      ]
     },
     "execution_count": 14,
     "metadata": {},
     "output_type": "execute_result"
    }
   ],
   "source": [
    "get_recommendations('경복궁')"
   ]
  }
 ],
 "metadata": {
  "kernelspec": {
   "display_name": "Python 3 (ipykernel)",
   "language": "python",
   "name": "python3"
  },
  "language_info": {
   "codemirror_mode": {
    "name": "ipython",
    "version": 3
   },
   "file_extension": ".py",
   "mimetype": "text/x-python",
   "name": "python",
   "nbconvert_exporter": "python",
   "pygments_lexer": "ipython3",
   "version": "3.10.9"
  },
  "toc": {
   "base_numbering": 1,
   "nav_menu": {},
   "number_sections": true,
   "sideBar": true,
   "skip_h1_title": false,
   "title_cell": "Table of Contents",
   "title_sidebar": "Contents",
   "toc_cell": false,
   "toc_position": {},
   "toc_section_display": true,
   "toc_window_display": false
  }
 },
 "nbformat": 4,
 "nbformat_minor": 4
}
